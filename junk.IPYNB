{
 "cells": [
  {
   "cell_type": "code",
   "execution_count": null,
   "metadata": {
    "vscode": {
     "languageId": "c"
    }
   },
   "outputs": [],
   "source": [
    "int main(void) {\n",
    "    int n = 100;  // Numero di righe\n",
    "    int m = 10;   // Numero di colonne (assumo un valore per m)\n",
    "    \n",
    "    // Allocazione della memoria per il vettore di puntatori\n",
    "    int **vettore = (int **)calloc(n, sizeof(int *));\n",
    "    if (vettore == NULL) {\n",
    "        printf(\"Errore nell'allocazione della memoria\\n\");\n",
    "        return 1;\n",
    "    }\n",
    "\n",
    "    // Allocazione della memoria per ciascun sotto-vettore\n",
    "    for (int i = 0; i < n; i++) {\n",
    "        vettore[i] = (int *)calloc(m, sizeof(int));\n",
    "        if (vettore[i] == NULL) {\n",
    "            printf(\"Errore nell'allocazione della memoria\\n\");\n",
    "            return 1;\n",
    "        }\n",
    "    }\n",
    "\n",
    "    // Inizializzazione del vettore\n",
    "    for (int i = 0; i < n; i++) {\n",
    "        for (int k = 0; k < m; k++) {\n",
    "            vettore[i][k] = (6 * (i+1) * (k+1)) + (i+1) - (k+1);\n",
    "        }\n",
    "    }\n",
    "\n",
    "    // Stampa della matrice\n",
    "    printMatrix(vettore, n, m);\n",
    "\n",
    "    // Deallocazione della memoria\n",
    "    for (int i = 0; i < n; i++) {\n",
    "        free(vettore[i]);\n",
    "    }\n",
    "    free(vettore);\n",
    "\n",
    "    return 0;\n",
    "}"
   ]
  },
  {
   "cell_type": "markdown",
   "metadata": {},
   "source": [
    "Generariamo una matrice già piena di n elementi con questo codice"
   ]
  },
  {
   "cell_type": "code",
   "execution_count": null,
   "metadata": {
    "vscode": {
     "languageId": "c"
    }
   },
   "outputs": [],
   "source": [
    "void printNumbers() {\n",
    "    int k = 1;\n",
    "    while (1) {\n",
    "        int num = 6 * k - 1;\n",
    "        printf(\"%d \", num);\n",
    "        k++;\n",
    "    }\n",
    "}"
   ]
  },
  {
   "cell_type": "markdown",
   "metadata": {},
   "source": [
    "Semplicemente generiamo senza salvare\n"
   ]
  },
  {
   "cell_type": "code",
   "execution_count": null,
   "metadata": {
    "vscode": {
     "languageId": "c"
    }
   },
   "outputs": [],
   "source": [
    "int *SIXkMinus1(int n) {\n",
    "    int *vettore = malloc(sizeof(int)*n);\n",
    "    for (int i = 0; i < n; i++)\n",
    "    {\n",
    "        vettore[i] = (6*i)-1;\n",
    "    }\n",
    "}\n",
    "\n",
    "void print_vector(int vec[], int size) {\n",
    "    for (int i = 0; i < size; i++) {\n",
    "        printf(\"%d \", vec[i]);\n",
    "    }\n",
    "    printf(\"\\n\");\n",
    "}"
   ]
  },
  {
   "cell_type": "markdown",
   "metadata": {},
   "source": [
    "ritrasformti in codici per generare un vettore con i 6k+1 e una funzione che stampa il vettore.\n"
   ]
  },
  {
   "cell_type": "code",
   "execution_count": null,
   "metadata": {
    "vscode": {
     "languageId": "c"
    }
   },
   "outputs": [],
   "source": [
    "int Calculate(int x, int y,int rule){\n",
    "    x++;\n",
    "    y++;\n",
    "    switch (rule)\n",
    "    {\n",
    "    case 1:\n",
    "        return (6*x*y)+x-y;\n",
    "    case 2:\n",
    "        return (6*x*y)+x+y;\n",
    "    case 3:\n",
    "        return (6*x*y)+x+y;\n",
    "    }\n",
    "}\n"
   ]
  },
  {
   "cell_type": "markdown",
   "metadata": {},
   "source": [
    "funzione che mi calcola le varie regole di selezione"
   ]
  },
  {
   "cell_type": "code",
   "execution_count": null,
   "metadata": {
    "vscode": {
     "languageId": "c"
    }
   },
   "outputs": [],
   "source": [
    "void printMatrix(int **vettore, int n, int m) {\n",
    "    int control;\n",
    "    for (int i = 0; i < n; i++) {\n",
    "        control=0;\n",
    "        for (int k = 0; k < m; k++) {\n",
    "            control=1;\n",
    "            if(vettore[i][k]==0)\n",
    "                break;\n",
    "            printf(\"%d \", vettore[i][k]);\n",
    "        }\n",
    "        if(control==0)break;\n",
    "        printf(\"\\n\");\n",
    "    }\n",
    "}"
   ]
  },
  {
   "cell_type": "markdown",
   "metadata": {},
   "source": [
    "Versione modificata di printMatrix per stampare una matrice dinamica in modo semi completo"
   ]
  }
 ],
 "metadata": {
  "language_info": {
   "name": "python"
  }
 },
 "nbformat": 4,
 "nbformat_minor": 2
}
